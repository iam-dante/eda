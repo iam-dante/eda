{
 "cells": [
  {
   "cell_type": "markdown",
   "id": "01f05544",
   "metadata": {},
   "source": [
    "# Explore DSPY (Declarative Self-improving Python)"
   ]
  },
  {
   "cell_type": "code",
   "execution_count": 28,
   "id": "895f320b",
   "metadata": {},
   "outputs": [],
   "source": [
    "import dspy\n",
    "lm = dspy.LM('ollama_chat/gemma3:12b', api_base='http://localhost:11434', api_key='')\n",
    "dspy.configure(lm=lm)"
   ]
  },
  {
   "cell_type": "code",
   "execution_count": 29,
   "id": "fdd90b1d",
   "metadata": {},
   "outputs": [
    {
     "data": {
      "text/plain": [
       "['Okay! Consider this a test. 😊 \\n\\nWhat\\'s the question? Let\\'s see how you do! 😉\\n\\n\\n\\nLet me know what you need me to do for this \"test.\"']"
      ]
     },
     "execution_count": 29,
     "metadata": {},
     "output_type": "execute_result"
    }
   ],
   "source": [
    "lm(\"Say this is a test!\", temperature=0.7)  # => ['This is a test!']\n",
    "lm(messages=[{\"role\": \"user\", \"content\": \"Say this is a test!\"}])  # => ['This is a test!']"
   ]
  },
  {
   "cell_type": "code",
   "execution_count": 30,
   "id": "0a75208d",
   "metadata": {},
   "outputs": [
    {
     "data": {
      "text/plain": [
       "Prediction(\n",
       "    reasoning='The question asks for the name of the castle that David Gregory inherited. According to the provided context [1], David Gregory inherited Kinnairdy Castle in 1664.',\n",
       "    response='Kinnairdy Castle.'\n",
       ")"
      ]
     },
     "execution_count": 30,
     "metadata": {},
     "output_type": "execute_result"
    }
   ],
   "source": [
    "## This is a wikipedia search\n",
    "def search_wikipedia(query: str) -> list[str]:\n",
    "    results = dspy.ColBERTv2(url='http://20.102.90.50:2017/wiki17_abstracts')(query, k=3)\n",
    "    return [x['text'] for x in results]\n",
    "\n",
    "rag = dspy.ChainOfThought('context, question -> response')\n",
    "question = \"What's the name of the castle that David Gregory inherited?\"\n",
    "rag(context=search_wikipedia(question), question=question)\n"
   ]
  },
  {
   "cell_type": "code",
   "execution_count": 31,
   "id": "e5f7296e",
   "metadata": {},
   "outputs": [],
   "source": [
    "import os\n",
    "import chromadb\n",
    "\n",
    "CHROMADB_API_TOKEN = os.getenv('CHROMA_API_KEY')\n",
    "\n",
    "chroma_client = chromadb.HttpClient(\n",
    "    ssl=True,\n",
    "    host='api.trychroma.com',\n",
    "    tenant='c74d6ead-7a1a-4e7d-afbb-3dd8d548c5ed',\n",
    "    database='rag-0a14d70f',\n",
    "    headers={\n",
    "        'x-chroma-token': CHROMADB_API_TOKEN\n",
    "    }\n",
    ")\n",
    "\n"
   ]
  },
  {
   "cell_type": "code",
   "execution_count": 32,
   "id": "9a16d051",
   "metadata": {},
   "outputs": [],
   "source": [
    "def rag_test(query: str) -> str:\n",
    "    collection = chroma_client.get_collection(name=\"doc_262ab1b3-0de0-4435-8858-3f538e030d24_1743956562_c92fa3f7\")\n",
    "    result = collection.query(query_texts=[query],\n",
    "    n_results=2,\n",
    "    )\n",
    "    return result[\"documents\"][0]"
   ]
  },
  {
   "cell_type": "code",
   "execution_count": 39,
   "id": "0b5ea9de",
   "metadata": {},
   "outputs": [
    {
     "data": {
      "text/plain": [
       "['slide credit pedro domingos 47 ml in practice understand domain, prior knowledge, and goals data integration, selection, cleaning, preprocessing, etc.',\n",
       " 'ml is used when human expertise does not exist navigating on mars humans cant explain their expertise speech recognition models must be customized personalized medicine models are based on huge amounts of data genomics learning isnt always useful there is no need to learn to calculate payroll based on slide by e.']"
      ]
     },
     "execution_count": 39,
     "metadata": {},
     "output_type": "execute_result"
    }
   ],
   "source": [
    "rag_test(\"What are the that that next to be taken to me a good data scienctist\")"
   ]
  },
  {
   "cell_type": "code",
   "execution_count": 40,
   "id": "ec32441e",
   "metadata": {},
   "outputs": [],
   "source": [
    "rag = dspy.ChainOfThought('context, question -> response')"
   ]
  },
  {
   "cell_type": "code",
   "execution_count": 42,
   "id": "843db7cc",
   "metadata": {},
   "outputs": [],
   "source": [
    "question = \"What are the that that next to be taken to me a good data scienctist\"\n",
    "response = rag(context=rag_test(question), question=question)"
   ]
  },
  {
   "cell_type": "code",
   "execution_count": 43,
   "id": "22b1ed4e",
   "metadata": {},
   "outputs": [
    {
     "data": {
      "text/plain": [
       "\"To become a good data scientist, you need a combination of technical skills and domain understanding. Here's a breakdown of key areas to focus on:\\n\\n*   **Domain Expertise:** Understand the specific field you're working in. Data science isn't just about algorithms; it's about applying them to solve real-world problems.\\n*   **Data Handling:** Master data integration, selection, cleaning, and preprocessing techniques. This is a significant portion of a data scientist's work.\\n*   **Machine Learning Fundamentals:** Develop a strong understanding of machine learning algorithms and when to apply them, especially in situations where human expertise is difficult to articulate or when dealing with large datasets.\\n*   **Problem Solving:** Be able to define problems, formulate hypotheses, and evaluate solutions using data.\\n*   **Communication:** Effectively communicate your findings and insights to both technical and non-technical audiences.\""
      ]
     },
     "execution_count": 43,
     "metadata": {},
     "output_type": "execute_result"
    }
   ],
   "source": [
    "response[\"response\"]"
   ]
  },
  {
   "cell_type": "code",
   "execution_count": 44,
   "id": "566f8cb3",
   "metadata": {},
   "outputs": [
    {
     "data": {
      "text/plain": [
       "Prediction(\n",
       "    reasoning='The question asks what steps are needed to become a good data scientist. The context provides clues about the skills and knowledge involved. It highlights the importance of understanding the domain, prior knowledge, and goals, as well as data integration, cleaning, and preprocessing. It also mentions situations where machine learning is useful (when human expertise is lacking or when dealing with large datasets like in personalized medicine). Therefore, a good response should focus on these aspects.',\n",
       "    response=\"To become a good data scientist, you need a combination of technical skills and domain understanding. Here's a breakdown of key areas to focus on:\\n\\n*   **Domain Expertise:** Understand the specific field you're working in. Data science isn't just about algorithms; it's about applying them to solve real-world problems.\\n*   **Data Handling:** Master data integration, selection, cleaning, and preprocessing techniques. This is a significant portion of a data scientist's work.\\n*   **Machine Learning Fundamentals:** Develop a strong understanding of machine learning algorithms and when to apply them, especially in situations where human expertise is difficult to articulate or when dealing with large datasets.\\n*   **Problem Solving:** Be able to define problems, formulate hypotheses, and evaluate solutions using data.\\n*   **Communication:** Effectively communicate your findings and insights to both technical and non-technical audiences.\"\n",
       ")"
      ]
     },
     "execution_count": 44,
     "metadata": {},
     "output_type": "execute_result"
    }
   ],
   "source": [
    "response"
   ]
  },
  {
   "cell_type": "code",
   "execution_count": null,
   "id": "1b922bf4",
   "metadata": {},
   "outputs": [],
   "source": []
  }
 ],
 "metadata": {
  "kernelspec": {
   "display_name": "base",
   "language": "python",
   "name": "python3"
  },
  "language_info": {
   "codemirror_mode": {
    "name": "ipython",
    "version": 3
   },
   "file_extension": ".py",
   "mimetype": "text/x-python",
   "name": "python",
   "nbconvert_exporter": "python",
   "pygments_lexer": "ipython3",
   "version": "3.10.0"
  }
 },
 "nbformat": 4,
 "nbformat_minor": 5
}
