{
 "cells": [
  {
   "cell_type": "markdown",
   "metadata": {},
   "source": [
    "# Reading and Cleaning Text"
   ]
  },
  {
   "cell_type": "code",
   "execution_count": 1,
   "metadata": {},
   "outputs": [],
   "source": [
    "# pdf_file = \"./doc/1706.03762.pdf\"\n",
    "pdf_file = \"./doc/2005.11401.pdf\"\n",
    "text_file = \"./doc/textfile.txt\"\n",
    "brian_pdf = \"./doc/Brian's_Resume.pdf\""
   ]
  },
  {
   "cell_type": "code",
   "execution_count": 2,
   "metadata": {},
   "outputs": [],
   "source": [
    "import fitz  # PyMuPDF\n",
    "\n",
    "def extract_text_from_pdf(pdf_path):\n",
    "    doc = fitz.open(pdf_path)\n",
    "    text = \"\"\n",
    "    for page in doc:\n",
    "        text += page.get_text(\"text\") + \"\\n\"\n",
    "    return text"
   ]
  },
  {
   "cell_type": "code",
   "execution_count": 3,
   "metadata": {},
   "outputs": [
    {
     "data": {
      "text/plain": [
       "'Brian Temu\\n# iq58974@umbc.edu ï in/brian-temu § github.com/iam-dante \\x80 www.iam-brian.dev/\\nEDUCATION\\nUniversity of Maryland Baltimore County\\nMay 2025\\nMaster’s in Data Science\\nMaryland\\nUniversity of Dar es salaam\\nNov 2019 – Oct 2022\\nBachelor of Science in Computer Science\\nDar es salaam\\nSKILLS\\nProgramming Languages: Python, JavaScript(TypeScript), C, C++, and SQL.\\nMachine Learning: Pytorch, TensorFlow, MLX, Scikit-learn, Pandas, Numpy, Seaborn, and Matplotlib.\\nAI/ML Skills: LLM fine-tuning, sentiment analysis, neural networks, and feature engineering.\\nTools: ML flow, Visual Studio Code, Jupyter Notebook, Docker, Git, and Google Colab.\\nCourses: Algorithms, Big Data, Database Management Systems, Machine Learning, and Artificial Intelligence.\\nWORK EXPERIENCE\\nInstitute of Genome Science, UMB\\nMay 2024 – Aug 2024\\nData Science Intern\\nMaryland\\n• Leveraged antiSMASH to analyze Bacteria Vaginosis gene clusters, uncovering critical biosynthetic patterns linked to\\nrecurrent Bacteria Vaginosis.\\n• Applied statistical and bioinformatics methods to uncover genetic markers for targeted Bacteria Vaginosis research.\\n• Collaborated with researchers to align antiSMASH results with study goals, providing insights that guided the direction\\nof BV research.\\nSoftnet Technologies Ltd\\nApril 2022 – Aug 2023\\nSoftware Engineer\\nDar es salaam\\n• Designed and executed new features and enhancements, leading to a 15% improvement in user experience.\\n• Reduced bugs by 25% and improved product quality through collaboration with the product owner.\\n• Led workshops on Tailwind CSS and Figma, achieving 90% adoption, and saving using external templates.\\n• Implemented Scrum, achieving 20% more on-time project deliveries with 95% sprint goal success.\\nTanzania Data Lab (dLab)\\nJuly 2021 – Sept 2021\\nMachine Learning Engineer Intern\\nDar es salaam\\n• Expertly collected, cleaned, and transformed image data, ensuring top-quality training datasets that achieved optimal\\nmodel performance.\\n• Collaborated with cross-functional teams, including software developers and domain experts, to deliver solutions that\\nimproved project efficiency by 20%.\\n• Researched and evaluated machine learning algorithms that boosted model evaluation by 15%.\\n• Achieved significant performance improvements by applying transfer learning techniques increase accuracy by 12%.\\nPROJECTS\\nVision Transformer | Paper Replication\\nDecember 2023\\n• Identify key components from the paper mainly transformer architecture and attention mechanisms that were\\ntranslated to modular pytorch code.\\n• Improve the accuracy by assessing the model performance using various metrics (accuracy, precision, recall etc) that are\\ninvolved in optimizing the performance through transfer learning.\\nReal-Time Face-mask Detection System | Computer Vision\\nJuly 2022\\n• Designed a scalable computer vision system using YOLOv5, achieving 97% accuracy in real-world conditions.\\n• Curated a diverse dataset of masked and unmasked individuals, standardizing the model for enhanced performance.\\n• Utilized the layout editor to create a UI for the application in order to allow different scenes to interact with each other.\\nBaltimore Police Department Crime | Data Analysis\\nNovember 2023\\n• Gather insight into the increase in crimes by exploring and modeling to identify patterns and trends within the dataset\\nthat correlate with the change.\\n• Verifying the findings by conducting hypothesis testing to validate and draw actionable insight from the analysis.\\nCERTIFICATION\\nDeepLearning.AI TensorFlow Developer Professional Certificate, Coursera\\nMarch 2023\\n\\n'"
      ]
     },
     "execution_count": 3,
     "metadata": {},
     "output_type": "execute_result"
    }
   ],
   "source": [
    "unclean_text = extract_text_from_pdf(brian_pdf)\n",
    "unclean_text"
   ]
  },
  {
   "cell_type": "code",
   "execution_count": 4,
   "metadata": {},
   "outputs": [],
   "source": [
    "import re\n",
    "import unicodedata\n",
    "\n",
    "def clean_text_(text):\n",
    "    # text = text.replace(\"\\n\", \" \")  # Replace newlines with spaces\n",
    "    text = re.sub(r'\\s+', ' ', str(text))  # Remove extra spaces\n",
    "    return text.strip()  # Trim leading and trailing spaces\n",
    "\n",
    "def remove_special_chars(text):\n",
    "    text = re.sub(r'[^a-zA-Z0-9.,!?\\'\" ]', '', text)  # Keep letters, numbers, and common punctuation\n",
    "    return text\n",
    "\n",
    "def fix_hyphenation(text):\n",
    "    return re.sub(r'(\\w+)-\\s+(\\w+)', r'\\1\\2', text)  # Removes hyphenation across lines\n",
    "\n",
    "def normalize_unicode(text):\n",
    "    return unicodedata.normalize(\"NFKD\", text)\n",
    "\n",
    "def remove_headers_footers(text):\n",
    "    lines = text.split(\"\\n\")\n",
    "    cleaned_lines = [line for line in lines if not re.match(r'(Page \\d+|Confidential|Company Name)', line)]\n",
    "    return \" \".join(cleaned_lines)\n",
    "\n",
    "def normalize_text(text):\n",
    "    return \" \".join(text.lower().split())  # Lowercase and remove extra spaces\n",
    "\n",
    "def full_text_cleanup(text):\n",
    "    \"\"\"\"\n",
    "    Takes in unclean text and return cleaned text by applying a series of cleaning functions.\n",
    "    \n",
    "    \"\"\"\n",
    "    text = clean_text_(text)\n",
    "    text = fix_hyphenation(text)\n",
    "    text = remove_special_chars(text)\n",
    "    text = normalize_unicode(text)\n",
    "    text = remove_headers_footers(text)\n",
    "    text = normalize_text(text)\n",
    "    \n",
    "    return text"
   ]
  },
  {
   "cell_type": "code",
   "execution_count": 5,
   "metadata": {},
   "outputs": [
    {
     "data": {
      "text/plain": [
       "'brian temu iq58974umbc.edu inbriantemu github.comiamdante www.iambrian.dev education university of maryland baltimore county may 2025 masters in data science maryland university of dar es salaam nov 2019 oct 2022 bachelor of science in computer science dar es salaam skills programming languages python, javascripttypescript, c, c, and sql. machine learning pytorch, tensorflow, mlx, scikitlearn, pandas, numpy, seaborn, and matplotlib. aiml skills llm finetuning, sentiment analysis, neural networks, and feature engineering. tools ml flow, visual studio code, jupyter notebook, docker, git, and google colab. courses algorithms, big data, database management systems, machine learning, and artificial intelligence. work experience institute of genome science, umb may 2024 aug 2024 data science intern maryland leveraged antismash to analyze bacteria vaginosis gene clusters, uncovering critical biosynthetic patterns linked to recurrent bacteria vaginosis. applied statistical and bioinformatics methods to uncover genetic markers for targeted bacteria vaginosis research. collaborated with researchers to align antismash results with study goals, providing insights that guided the direction of bv research. softnet technologies ltd april 2022 aug 2023 software engineer dar es salaam designed and executed new features and enhancements, leading to a 15 improvement in user experience. reduced bugs by 25 and improved product quality through collaboration with the product owner. led workshops on tailwind css and figma, achieving 90 adoption, and saving using external templates. implemented scrum, achieving 20 more ontime project deliveries with 95 sprint goal success. tanzania data lab dlab july 2021 sept 2021 machine learning engineer intern dar es salaam expertly collected, cleaned, and transformed image data, ensuring topquality training datasets that achieved optimal model performance. collaborated with crossfunctional teams, including software developers and domain experts, to deliver solutions that improved project efficiency by 20. researched and evaluated machine learning algorithms that boosted model evaluation by 15. achieved significant performance improvements by applying transfer learning techniques increase accuracy by 12. projects vision transformer paper replication december 2023 identify key components from the paper mainly transformer architecture and attention mechanisms that were translated to modular pytorch code. improve the accuracy by assessing the model performance using various metrics accuracy, precision, recall etc that are involved in optimizing the performance through transfer learning. realtime facemask detection system computer vision july 2022 designed a scalable computer vision system using yolov5, achieving 97 accuracy in realworld conditions. curated a diverse dataset of masked and unmasked individuals, standardizing the model for enhanced performance. utilized the layout editor to create a ui for the application in order to allow different scenes to interact with each other. baltimore police department crime data analysis november 2023 gather insight into the increase in crimes by exploring and modeling to identify patterns and trends within the dataset that correlate with the change. verifying the findings by conducting hypothesis testing to validate and draw actionable insight from the analysis. certification deeplearning.ai tensorflow developer professional certificate, coursera march 2023'"
      ]
     },
     "execution_count": 5,
     "metadata": {},
     "output_type": "execute_result"
    }
   ],
   "source": [
    "clean_text = full_text_cleanup(unclean_text)\n",
    "clean_text"
   ]
  },
  {
   "cell_type": "code",
   "execution_count": 6,
   "metadata": {},
   "outputs": [
    {
     "name": "stdout",
     "output_type": "stream",
     "text": [
      "['brian temu iq58974umbc.edu inbriantemu github.comiamdante www.iambrian.dev education university of maryland baltimore county may 2025 masters in data science maryland university of dar es salaam nov 2019 oct 2022 bachelor of science in computer science dar es salaam skills programming languages python, javascripttypescript, c, c, and sql.\\n\\nmachine learning pytorch, tensorflow, mlx, scikitlearn, pandas, numpy, seaborn, and matplotlib.\\n\\naiml skills llm finetuning, sentiment analysis, neural networks, and feature engineering.\\n\\ntools ml flow, visual studio code, jupyter notebook, docker, git, and google colab.\\n\\ncourses algorithms, big data, database management systems, machine learning, and artificial intelligence.\\n\\nwork experience institute of genome science, umb may 2024 aug 2024 data science intern maryland leveraged antismash to analyze bacteria vaginosis gene clusters, uncovering critical biosynthetic patterns linked to recurrent bacteria vaginosis.\\n\\napplied statistical and bioinformatics methods to uncover genetic markers for targeted bacteria vaginosis research.\\n\\ncollaborated with researchers to align antismash results with study goals, providing insights that guided the direction of bv research.\\n\\nsoftnet technologies ltd april 2022 aug 2023 software engineer dar es salaam designed and executed new features and enhancements, leading to a 15 improvement in user experience.\\n\\nreduced bugs by 25 and improved product quality through collaboration with the product owner.\\n\\nled workshops on tailwind css and figma, achieving 90 adoption, and saving using external templates.\\n\\nimplemented scrum, achieving 20 more ontime project deliveries with 95 sprint goal success.\\n\\ntanzania data lab dlab july 2021 sept 2021 machine learning engineer intern dar es salaam expertly collected, cleaned, and transformed image data, ensuring topquality training datasets that achieved optimal model performance.\\n\\ncollaborated with crossfunctional teams, including software developers and domain experts, to deliver solutions that improved project efficiency by 20. researched and evaluated machine learning algorithms that boosted model evaluation by 15. achieved significant performance improvements by applying transfer learning techniques increase accuracy by 12. projects vision transformer paper replication december 2023 identify key components from the paper mainly transformer architecture and attention mechanisms that were translated to modular pytorch code.\\n\\nimprove the accuracy by assessing the model performance using various metrics accuracy, precision, recall etc that are involved in optimizing the performance through transfer learning.\\n\\nrealtime facemask detection system computer vision july 2022 designed a scalable computer vision system using yolov5, achieving 97 accuracy in realworld conditions.\\n\\ncurated a diverse dataset of masked and unmasked individuals, standardizing the model for enhanced performance.\\n\\nutilized the layout editor to create a ui for the application in order to allow different scenes to interact with each other.\\n\\nbaltimore police department crime data analysis november 2023 gather insight into the increase in crimes by exploring and modeling to identify patterns and trends within the dataset that correlate with the change.\\n\\nverifying the findings by conducting hypothesis testing to validate and draw actionable insight from the analysis.\\n\\ncertification deeplearning.ai tensorflow developer professional certificate, coursera march 2023']\n"
     ]
    }
   ],
   "source": [
    "from langchain.text_splitter import NLTKTextSplitter\n",
    "def split_text_into_sentences(text):\n",
    "    \"\"\"Splits text into sentences using NLTKTextSplitter.\"\"\"\n",
    "    text_splitter = NLTKTextSplitter()\n",
    "    return text_splitter.split_text(text)\n",
    "\n",
    "sentences = split_text_into_sentences(clean_text)\n",
    "print(sentences)"
   ]
  },
  {
   "cell_type": "code",
   "execution_count": 8,
   "metadata": {},
   "outputs": [
    {
     "data": {
      "text/plain": [
       "['brian temu iq58974umbc.edu inbriantemu github.comiamdante www.iambrian.dev education university of maryland baltimore county may 2025 masters in data science maryland university of dar es salaam nov 2019 oct 2022 bachelor of science in computer science dar es salaam skills programming languages python, javascripttypescript, c, c, and sql.  machine learning pytorch, tensorflow, mlx, scikitlearn, pandas, numpy, seaborn, and matplotlib.  aiml skills llm finetuning, sentiment analysis, neural networks, and feature engineering.  tools ml flow, visual studio code, jupyter notebook, docker, git, and google colab.  courses algorithms, big data, database management systems, machine learning, and artificial intelligence.  work experience institute of genome science, umb may 2024 aug 2024 data science intern maryland leveraged antismash to analyze bacteria vaginosis gene clusters, uncovering critical biosynthetic patterns linked to recurrent bacteria vaginosis.  applied statistical and bioinformatics methods to uncover genetic markers for targeted bacteria vaginosis research.  collaborated with researchers to align antismash results with study goals, providing insights that guided the direction of bv research.  softnet technologies ltd april 2022 aug 2023 software engineer dar es salaam designed and executed new features and enhancements, leading to a 15 improvement in user experience.  reduced bugs by 25 and improved product quality through collaboration with the product owner.  led workshops on tailwind css and figma, achieving 90 adoption, and saving using external templates.  implemented scrum, achieving 20 more ontime project deliveries with 95 sprint goal success.  tanzania data lab dlab july 2021 sept 2021 machine learning engineer intern dar es salaam expertly collected, cleaned, and transformed image data, ensuring topquality training datasets that achieved optimal model performance.  collaborated with crossfunctional teams, including software developers and domain experts, to deliver solutions that improved project efficiency by 20. researched and evaluated machine learning algorithms that boosted model evaluation by 15. achieved significant performance improvements by applying transfer learning techniques increase accuracy by 12. projects vision transformer paper replication december 2023 identify key components from the paper mainly transformer architecture and attention mechanisms that were translated to modular pytorch code.  improve the accuracy by assessing the model performance using various metrics accuracy, precision, recall etc that are involved in optimizing the performance through transfer learning.  realtime facemask detection system computer vision july 2022 designed a scalable computer vision system using yolov5, achieving 97 accuracy in realworld conditions.  curated a diverse dataset of masked and unmasked individuals, standardizing the model for enhanced performance.  utilized the layout editor to create a ui for the application in order to allow different scenes to interact with each other.  baltimore police department crime data analysis november 2023 gather insight into the increase in crimes by exploring and modeling to identify patterns and trends within the dataset that correlate with the change.  verifying the findings by conducting hypothesis testing to validate and draw actionable insight from the analysis.  certification deeplearning.ai tensorflow developer professional certificate, coursera march 2023']"
      ]
     },
     "execution_count": 8,
     "metadata": {},
     "output_type": "execute_result"
    }
   ],
   "source": [
    "# Using Langchain to extract text \n",
    "from langchain.document_loaders import PyMuPDFLoader\n",
    "from langchain.text_splitter import CharacterTextSplitter\n",
    "from langchain.text_splitter import NLTKTextSplitter\n",
    "\n",
    "def extract_text_langchain(pdf_path):\n",
    "    loader = PyMuPDFLoader(pdf_path)\n",
    "    documents = loader.load()\n",
    "    return \"\\n\".join([doc.page_content for doc in documents])\n",
    "\n",
    "\n",
    "def lang_clean_text(text):\n",
    "    # text = text.replace(\"\\n\", \" \").strip()  \n",
    "    text = full_text_cleanup(text)\n",
    "    text_splitter = CharacterTextSplitter(chunk_size=100, chunk_overlap=20)\n",
    "    return text_splitter.split_text(text)\n",
    "\n",
    "def split_text_into_sentences(text):\n",
    "    \"\"\"Splits text into sentences using NLTKTextSplitter.\"\"\"\n",
    "    text_splitter = NLTKTextSplitter()\n",
    "    sentences = text_splitter.split_text(text)\n",
    "    cleaned_sentences = [sentence.replace(\"\\n\", \" \") for sentence in sentences]\n",
    "    return cleaned_sentences\n",
    "\n",
    "lang_text = extract_text_langchain(brian_pdf)\n",
    "lang_cleaned_text = lang_clean_text(lang_text)\n",
    "lang_sentences = split_text_into_sentences(lang_cleaned_text[0])\n",
    "\n",
    "lang_sentences"
   ]
  },
  {
   "cell_type": "code",
   "execution_count": 9,
   "metadata": {},
   "outputs": [],
   "source": [
    "import chromadb\n",
    "chroma_client = chromadb.Client()\n",
    "\n",
    "sentence_chunks = lang_sentences\n",
    "\n",
    "collection = chroma_client.get_or_create_collection(name=\"my_collection\")\n",
    "collection.add(\n",
    "    documents=sentence_chunks,\n",
    "    ids=[f\"{i}\" for i in range(len(sentence_chunks))]\n",
    ")\n"
   ]
  },
  {
   "cell_type": "code",
   "execution_count": 14,
   "metadata": {},
   "outputs": [
    {
     "name": "stderr",
     "output_type": "stream",
     "text": [
      "Number of requested results 2 is greater than number of elements in index 1, updating n_results = 1\n"
     ]
    },
    {
     "name": "stdout",
     "output_type": "stream",
     "text": [
      "[['brian temu iq58974umbc.edu inbriantemu github.comiamdante www.iambrian.dev education university of maryland baltimore county may 2025 masters in data science maryland university of dar es salaam nov 2019 oct 2022 bachelor of science in computer science dar es salaam skills programming languages python, javascripttypescript, c, c, and sql.  machine learning pytorch, tensorflow, mlx, scikitlearn, pandas, numpy, seaborn, and matplotlib.  aiml skills llm finetuning, sentiment analysis, neural networks, and feature engineering.  tools ml flow, visual studio code, jupyter notebook, docker, git, and google colab.  courses algorithms, big data, database management systems, machine learning, and artificial intelligence.  work experience institute of genome science, umb may 2024 aug 2024 data science intern maryland leveraged antismash to analyze bacteria vaginosis gene clusters, uncovering critical biosynthetic patterns linked to recurrent bacteria vaginosis.  applied statistical and bioinformatics methods to uncover genetic markers for targeted bacteria vaginosis research.  collaborated with researchers to align antismash results with study goals, providing insights that guided the direction of bv research.  softnet technologies ltd april 2022 aug 2023 software engineer dar es salaam designed and executed new features and enhancements, leading to a 15 improvement in user experience.  reduced bugs by 25 and improved product quality through collaboration with the product owner.  led workshops on tailwind css and figma, achieving 90 adoption, and saving using external templates.  implemented scrum, achieving 20 more ontime project deliveries with 95 sprint goal success.  tanzania data lab dlab july 2021 sept 2021 machine learning engineer intern dar es salaam expertly collected, cleaned, and transformed image data, ensuring topquality training datasets that achieved optimal model performance.  collaborated with crossfunctional teams, including software developers and domain experts, to deliver solutions that improved project efficiency by 20. researched and evaluated machine learning algorithms that boosted model evaluation by 15. achieved significant performance improvements by applying transfer learning techniques increase accuracy by 12. projects vision transformer paper replication december 2023 identify key components from the paper mainly transformer architecture and attention mechanisms that were translated to modular pytorch code.  improve the accuracy by assessing the model performance using various metrics accuracy, precision, recall etc that are involved in optimizing the performance through transfer learning.  realtime facemask detection system computer vision july 2022 designed a scalable computer vision system using yolov5, achieving 97 accuracy in realworld conditions.  curated a diverse dataset of masked and unmasked individuals, standardizing the model for enhanced performance.  utilized the layout editor to create a ui for the application in order to allow different scenes to interact with each other.  baltimore police department crime data analysis november 2023 gather insight into the increase in crimes by exploring and modeling to identify patterns and trends within the dataset that correlate with the change.  verifying the findings by conducting hypothesis testing to validate and draw actionable insight from the analysis.  certification deeplearning.ai tensorflow developer professional certificate, coursera march 2023']]\n"
     ]
    }
   ],
   "source": [
    "results = collection.query(\n",
    "    query_texts=[\"What are Brian Experiences after Graduating his Bachelors in Computer Science\"], # Chroma will embed this for you\n",
    "    n_results=2 # how many results to return\n",
    ")\n",
    "\n",
    "print(results[\"documents\"])"
   ]
  },
  {
   "cell_type": "markdown",
   "metadata": {},
   "source": [
    "# LLM Intergration "
   ]
  },
  {
   "cell_type": "code",
   "execution_count": 11,
   "metadata": {},
   "outputs": [],
   "source": [
    "import requests\n",
    "import json\n",
    "\n",
    "def ask_ollama(query, context=None):\n",
    "\n",
    "    context = \"-\".join(context) if context else \"No context provided.\"\n",
    "    \n",
    "    prompt = f\"\"\"\n",
    "            You are an advanced Retrieval-Augmented Generation (RAG) system designed to provide highly accurate and contextually relevant responses. Use *only* the information provided in the context below to generate your answer. Do not use any prior knowledge or external sources. If the context does not contain enough information to answer the question, explicitly state: \"I cannot answer this question based on the provided information.\"\n",
    "\n",
    "            ## Instructions:\n",
    "            - Analyze the retrieved context carefully to extract the most relevant details.\n",
    "            - Ensure that your answer is comprehensive, well-structured, and directly addresses the user's question.\n",
    "            - If multiple pieces of evidence exist in the context, synthesize them for a cohesive response.\n",
    "            - If the context is unclear, ambiguous, or conflicting, acknowledge this uncertainty in your response.\n",
    "            - Do not assume or infer facts beyond what is stated in the provided context.\n",
    "\n",
    "            ## Context:\n",
    "            {context}\n",
    "\n",
    "            ## Question:\n",
    "            {query}\n",
    "\n",
    "            ## Answer:\n",
    "            \"\"\"\n",
    "    \n",
    "    grok_prompt = f\"\"\"\n",
    "        ### Prompt for RAG System\n",
    "\n",
    "            **Instruction:**\n",
    "            You are an AI designed to answer queries using a two-step process involving context retrieval and knowledge-based answering. Here's how you should proceed:\n",
    "\n",
    "            1. **Context Retrieval (Step 1):**\n",
    "            - **Context:** {context}\n",
    "            - **Query:** {query}\n",
    "\n",
    "            First, attempt to answer the query using the provided context. Look for relevant information within the context that directly relates to the query. If you can answer the query comprehensively using only this context, do so. If you cannot:\n",
    "\n",
    "            2. **Knowledge-Based Answer (Step 2):**\n",
    "            - If the context does not provide enough information to answer the query accurately, or if the query is not adequately addressed by the context, use your pre-existing knowledge to answer the query. \n",
    "            - Be clear that you are now using your knowledge by starting your response with \"Based on my knowledge:\".\n",
    "\n",
    "            **Guidelines:**\n",
    "            - **Accuracy:** Prioritize accuracy. If the context does not provide a clear answer and your knowledge is uncertain or outdated, acknowledge this by saying, \"I'm not certain about this, but based on my knowledge:\".\n",
    "            - **Completeness:** If part of the query can be answered with context but not fully, use context for what you can and supplement with knowledge.\n",
    "            - **Citations:** When answering from context, if possible, reference or quote directly from the context by using quotation marks or by specifying where in the context the answer was found (e.g., \"According to the context...\").\n",
    "            - **Admit Limitations:** If neither the context nor your knowledge can provide an answer, admit this by saying, \"I do not have enough information to answer this query adequately.\"\n",
    "\n",
    "            **Example Response Formats:**\n",
    "\n",
    "            - **From Context:** \"The context states that the boiling point of water at sea level is 100°C.\"\n",
    "            - **From Knowledge:** \"Based on my knowledge, the average adult human body contains approximately 60% water.\"\n",
    "            - **Mixed:** \"From the context, we learn that the Eiffel Tower was completed in 1889. Based on my knowledge, it was designed by Gustave Eiffel.\"\n",
    "            - **Admitting Limitation:** \"I do not have enough information to answer this query adequately.\"\n",
    "\n",
    "            **Proceed:**\n",
    "            Now, attempt to answer the query provided:\n",
    "\n",
    "            **Query:** {query}\n",
    "\n",
    "            Your answer should be just explain of your understanding of the question. Dont list steps or any other things. Just explain the concept. Dont say Based on my knowledge\n",
    "    \n",
    "    \"\"\"\n",
    "    \n",
    "    # Ollama local API endpoint\n",
    "    OLLAMA_URL = \"http://localhost:11434/api/generate\"\n",
    "\n",
    "    # Define the request payload\n",
    "    payload = {\n",
    "        \"model\": \"llama3.2\",  # Change this to the model you have installed\n",
    "        \"prompt\": grok_prompt,\n",
    "        \"stream\": False  # Set to True if you want to stream responses\n",
    "    }\n",
    "\n",
    "    # Send the request\n",
    "    response = requests.post(OLLAMA_URL, json=payload)\n",
    "\n",
    "    # Parse and print response\n",
    "    if response.status_code == 200:\n",
    "        data = response.json()\n",
    "        print(data[\"response\"])\n",
    "    else:\n",
    "        print(f\"Error: {response.status_code}, {response.text}\")\n",
    "\n",
    "\n"
   ]
  },
  {
   "cell_type": "code",
   "execution_count": 13,
   "metadata": {},
   "outputs": [
    {
     "name": "stdout",
     "output_type": "stream",
     "text": [
      "Based on the provided context, it appears that Brian Temu graduated with a Bachelor of Science in Computer Science from the University of Maryland, Baltimore County (UMBC) in May 2025. After graduating, Brian's work experience and skills suggest that he transitioned into a career in data science.\n",
      "\n",
      "As a Data Science Intern at the Institute of Genome Science from May 2024 to August 2024, Brian worked on analyzing bacteria vaginosis gene clusters using antismash and applied statistical and bioinformatics methods to uncover genetic markers for targeted bacteria vaginosis research. This experience likely honed his skills in machine learning and data analysis.\n",
      "\n",
      "Brian's role as a Machine Learning Engineer Intern at Tanzania Data Lab from July 2021 to September 2021 further showcased his expertise in collecting, cleaning, and transforming image data, ensuring top-quality training datasets that achieved optimal model performance. He also researched and evaluated machine learning algorithms, achieving significant performance improvements through transfer learning techniques.\n",
      "\n",
      "Additionally, Brian's involvement in various projects, such as the \"Vision Transformer Paper Replication\" and the \"Real-time Facemask Detection System,\" demonstrates his proficiency in programming languages like Python, JavaScript, TypeScript, C, and SQL, as well as his expertise in machine learning frameworks like PyTorch, TensorFlow, MLX, Scikit-Learn, Pandas, NumPy, Seaborn, and Matplotlib.\n",
      "\n",
      "In summary, after graduating with a Bachelor of Science in Computer Science, Brian Temu leveraged his skills in data science to secure internships and work experiences that enabled him to develop expertise in machine learning, data analysis, and programming languages.\n"
     ]
    }
   ],
   "source": [
    "query = [\"What are Brian Experiences after Graduating his Bachelors in Computer Science\"]\n",
    "response_query = collection.query(query_texts=query, n_results=1)\n",
    "context = response_query[\"documents\"][0]\n",
    "\n",
    "response = ask_ollama(query, context)"
   ]
  },
  {
   "cell_type": "code",
   "execution_count": null,
   "metadata": {},
   "outputs": [],
   "source": []
  }
 ],
 "metadata": {
  "kernelspec": {
   "display_name": "base",
   "language": "python",
   "name": "python3"
  },
  "language_info": {
   "codemirror_mode": {
    "name": "ipython",
    "version": 3
   },
   "file_extension": ".py",
   "mimetype": "text/x-python",
   "name": "python",
   "nbconvert_exporter": "python",
   "pygments_lexer": "ipython3",
   "version": "3.10.0"
  }
 },
 "nbformat": 4,
 "nbformat_minor": 2
}
