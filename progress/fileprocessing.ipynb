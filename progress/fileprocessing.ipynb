{
 "cells": [
  {
   "cell_type": "markdown",
   "metadata": {},
   "source": [
    "# Reading and Cleaning Text"
   ]
  },
  {
   "cell_type": "code",
   "execution_count": 28,
   "metadata": {},
   "outputs": [],
   "source": [
    "# pdf_file = \"./doc/1706.03762.pdf\"\n",
    "pdf_file = \"./doc/2005.11401.pdf\"\n",
    "text_file = \"./doc/textfile.txt\"\n",
    "brian_pdf = \"./doc/Brian's_Resume.pdf\"\n",
    "opt_workshop = \"./doc/opt_workshop_umbc.pdf\""
   ]
  },
  {
   "cell_type": "code",
   "execution_count": 2,
   "metadata": {},
   "outputs": [],
   "source": [
    "import fitz  # PyMuPDF\n",
    "\n",
    "def extract_text_from_pdf(pdf_path):\n",
    "    doc = fitz.open(pdf_path)\n",
    "    text = \"\"\n",
    "    for page in doc:\n",
    "        text += page.get_text(\"text\") + \"\\n\"\n",
    "    return text"
   ]
  },
  {
   "cell_type": "code",
   "execution_count": 29,
   "metadata": {},
   "outputs": [
    {
     "data": {
      "text/plain": [
       "'OPT\\nA step-by-step guide\\n\\nWhat is OPT?\\n▪Optional Practical Training\\n▪Work permission for 1 year (with option to extend 2 years for STEM degrees)\\n▪Purpose is to gain experience in your field\\n▪One year of OPT per degree level\\n▪Must be progressively higher (i.e. bachelor → master → doctoral)\\n\\nOPT Application Process\\nSubmit through \\nUSCIS website\\n\\nDon’t I need a job to apply for OPT?\\nNO!\\n▪Why not??\\n▪USCIS can take more than three months to review your OPT application\\n▪It would be WAY TOO LATE to apply if you waited to find a job first\\n\\nWhen can I apply?\\n▪Apply for OPT during your last \\nsemester at UMBC\\n▪The earliest you can apply for OPT \\nis 90 days before your I-20 end date\\n▪The latest you can apply for OPT is \\n60 days after your I-20 end date\\nSpring grads\\nFall grads\\nEarliest date\\nFeb 25\\nSept 25\\nI-20 end date\\nMay 25\\nDec 23\\nLatest date\\nJuly 24\\nFeb 20\\nApproximate OPT timeline by grad term\\n\\nAnother way to think about it\\nI-20 end date\\n90 days\\n60-day\\n“grace period”\\nEarliest \\ndate you \\ncan submit \\napplication\\nLatest date \\nyou can \\nsubmit \\napplication\\n\\nDon’t wait until it’s too late!\\n▪Remember that many other students will want to apply for OPT around the same \\ntime you do\\n▪OPT applications cannot be rushed\\n▪We process applications as they come in, not based on your OPT start date\\n▪USCIS can take more than 90 days to review your OPT application\\n\\nChoosing a start date\\nI-20 end date\\n90 days\\n60-day\\n“grace period”\\nEarliest \\ndate you \\ncan submit \\napplication\\nOPT start date can be ANY \\ntime during “grace period”\\n{\\n\\nIf I don’t have a job, how do I pick a start date?\\n▪Based on the job market or how much job hunting you’ve done so far\\n▪Allow time for application processing – this can take more than 90 days\\n▪Consider travel and what you might do during break from school\\n▪There is no way to guarantee uninterrupted work permission– be open and \\nhonest with employers!\\n▪Remember: you do not have to have a job on your OPT start date\\n\\nOK, I’ve chosen a start date. Now what?\\n1.\\nReview the ISSS website for application instructions and prepare your draft \\nForm I-765 through the USCIS online system.\\n2.\\nComplete and submit OPT Application through the ISSS Portal\\n3.\\nInvite your academic advisor to approve your application through the ISSS Portal\\n4.\\nReceive scanned OPT I-20 in your ISSS Portal account, print out and sign it!\\n5.\\nSubmit your complete application online through <uscis.gov>.\\n6.\\nWait (patiently!) for approval\\n\\nAfter you apply, you receive:\\n1.\\nReceipt\\n▪\\nAvailable immediately through the USCIS website once you make your payment and \\nsubmit your application.\\n2.\\nApproval notice\\n▪\\nUsually arrives after 2 – 3 months. Can take longer.\\n3.\\nEAD card\\n▪\\nUsually arrives about 1 week after approval notice\\n\\nI’m approved!\\nWay to go, you!\\n\\nWhat are the rules governing my OPT time?\\n▪You must be working!\\n▪The expectation is that you will be working during your year of OPT\\n▪You also have up to 90 days of unemployment time, meaning it is OK not to \\nhave a job in your SEVIS record for up to 3 of your 12 months of OPT\\n▪All jobs during OPT must be directly related to your UMBC degree program\\n▪Part-time (< 20 hrs) or Full-time, paid or unpaid — all OK during OPT\\n▪You must be working at least 20 hours per week (total) to meet these requirements\\n\\nWhat are the rules governing my OPT time?\\n▪Unlike CPT, you are allowed to change jobs at any time\\n▪However, you must update your SEVP Portal account whenever \\nyou:\\no change jobs\\no get a new job\\no end an earlier job\\no change your address\\n▪SEVP Portal: https://sevp.ice.gov/opt/ \\n\\nSEVP Portal\\n\\nSEVP Portal\\n\\nHealth insurance\\nThis is VERY serious:\\n▪You will no longer be automatically enrolled in UMBC’s health insurance\\n▪You may be offered health insurance coverage from your employer, or you can \\nlook at third-party providers like ISO, Gateway USA, etc.\\n▪You need to think about this!  It is extremely risky to be in the US without health \\ninsurance. See about options your employer might have, or consider the \\nHealthcare Marketplaces established through the Affordable Care Act \\n(Obamacare)\\n\\nContinuing education\\n▪You are free to take classes during OPT\\n▪But you may NOT begin a new degree program, or your OPT will automatically \\nterminate.\\n▪Register for courses as a “non degree-seeking” or “visiting student”\\n▪Degree-seeking programs would require you to transfer your SEVIS record or \\nchange your Education Level, which automatically ends your OPT approval\\n\\nGot it. Let’s do this.\\nReady to complete the OPT application?\\n\\nOptional Practical \\nTraining application\\nVisit the ISSS Portal\\nisss-portal.umbc.edu\\nClick the \\n      button on your user \\naccount, or from the ISSS Portal homepage, \\nfind the OPT application under: \\nF-1 Students > Employment >\\nOptional Practical Training (OPT)\\n\\nOptional Practical \\nTraining application\\nYou must complete ALL sections of the \\napplication before clicking “Submit.”\\nDownload draft snapshot of Form I-765 \\nfrom USCIS online account and upload \\nto your OPT request\\n\\nDownload “Draft Snapshot” of Form I-765\\n▪\\nTo generate a draft \\nForm I-765, click the \\n“View Draft Snapshot” \\nbutton\\n▪\\nDo NOT click the Print \\nbutton!!\\n▪\\nYou can upload the \\n“Draft Snapshot” to \\nyour OPT Request in \\nthe ISSS Portal\\n\\nOptional Practical \\nTraining application\\nRead and digitally sign the “Signature \\nDocuments”\\nComplete the OPT Student Request \\nForm – this is where you’ll indicate your \\npreferred OPT start date\\n\\nOptional Practical \\nTraining application\\nYou must send an electronic request to \\nyour academic/department advisor \\nthrough the ISSS Portal. \\nYour advisor will verify your eligibility for \\nOPT.\\nClick “Request Electronic Recommendation”\\n\\nOptional Practical \\nTraining application\\nUse the UMBC Directory Lookup section \\non the next page to look up your academic \\nadvisor.\\nYou should only enter your advisor’s \\ndetails manually if you cannot find them \\nthrough the Directory Lookup.\\nTry NOT to use the Manual Entry feature.\\n\\nReview by ISSS\\n▪If you have detailed questions or doubts about OPT– contact ISSS ahead of time, \\nbefore submitting all your OPT application through the ISSS Portal.\\n▪You cannot apply for OPT in person at the ISSS office; everything must be \\nhandled through the ISSS Portal. \\n▪ISSS advisors review the “Draft Snapshot” of your Form I-765 when we process \\nyour OPT request. We will let you know if your draft I-765 requires any edits.\\n\\nOptional Practical \\nTraining application\\nOnce ISSS reviews your application, \\nthe data will be sent overnight to \\nSEVIS.\\nOnce processed through SEVIS, we \\nwill upload your new, signed OPT I-20 \\nto the “Attached Documents” section of \\nyour OPT application.\\n\\nIMPORTANT!\\n▪\\nOnce you receive your OPT I-20 in the ISSS Portal, you MUST check the \\n“Employment Authorizations” box on page 2 to be sure that a Post-Completion \\nOPT request has been added and to verify that your chosen start date is listed.\\n▪\\nFailure to check this can result in your OPT application being denied by USCIS!\\n▪\\nIf there are any errors, contact ISSS via Help Ticket or Live Chat\\n\\nAssembling your OPT application package\\nOnce you receive your signed OPT I-20 in your ISSS Portal account, you can print, \\nsign, and include that I-20 in the OPT application package you sent to USCIS.\\nOn the ISSS website, you will find a list of all the other application requirements.\\nIn brief….\\n\\nForm I-765\\n▪\\nThis is the primary form in your \\nOPT application, the application \\nfor employment authorization.\\n▪\\nWe recommend online filing \\nthrough the USCIS application \\nsystem, NOT filling out the PDF \\nand mailing it to USCIS.\\n▪\\nIf you choose to file by mail, Be \\nsure to download the latest \\nedition of the Form I-765 from \\nUSCIS’s website: \\nhttps://www.uscis.gov/i-765 \\nNEVER use a form that a friend \\nsends you or that you found on \\nthe website of an international \\nstudent office or message board. \\nThese are often out of date.\\n\\nForms I-20\\n▪USCIS requires OPT applicants to include certain information in the “Additional \\nInformation” section of the Form I-765.\\n▪List any periods of CPT or OPT approved in the past and include the dates of the \\napproval, as well as the academic level at which it was approved (e.g. Bachelor’s, \\nMaster’s, Doctorate).\\n▪USCIS recommends uploading a copy of any Forms I-20 showing work \\nauthorization.\\n▪If you ever held F-1 status with a different SEVIS ID number, you must enter it \\nhere.\\nNOTE: ISSS does NOT maintain copies of all the I-20s you’ve been issued; that is \\nyour responsibility!\\n\\nI-94\\n▪Available online\\nSearch for “I-94” – choose .gov site\\n▪Enter name exactly as it appears on \\nyour F-1 student visa\\n▪Copy passport number and issuing \\ncountry from your passport\\n▪Click next….\\n\\nI-94\\n▪Available online\\nSearch for “I-94,” choose .gov site\\n▪Enter name exactly as it appears on \\nyour F-1 student visa\\n▪Copy passport number and issuing \\ncountry from your passport\\n▪Click next….\\n▪This is your I-94 record!\\n\\nI-94\\n▪The “Admission (I-94) Record \\nNumber” will be entered on the form \\nI-765\\n▪You can also view your Travel \\nHistory through this site\\n▪The most recent entry record will \\nalso be entered on the form I-765\\n\\nPassport and visa\\n▪Make photocopies of your current passport and F-1 student visa\\n▪If your F-1 visa is in an older passport, include copies of both old and new \\npassport in your application\\n▪Your F-1 visa can be expired\\n▪Your passport cannot be expired and should generally have at least 6 months of \\nvalidity remaining.\\n\\nNow, file online!\\nOnce you have your OPT I-20 from ISSS, you can submit your application online\\nIt’s very important to check the USCIS \\nwebsite for the proper mailing address: \\nhttps://www.uscis.gov/i-765-addresses\\nSee here for detailed instructions to e-\\nfile your OPT application with USCIS:\\nhttps://isss.umbc.edu/opt-application-\\ninformation/#checklist\\n\\nAfter submitting your application…\\n▪\\nIf you receive a Request for Evidence (RFE), a Notice of Intent to Deny (NOID), \\nor your application is returned to you, you MUST notify ISSS as soon as \\npossible so that we can help you to understand the response from USCIS and \\nhelp you to resolve or refile, if necessary. Send us a copy of whatever you \\nreceive from USCIS.\\n▪\\nThere are very tight deadlines, so be sure to notify ISSS as soon as possible\\n▪\\nWhatever you do, do not put a denied or rejected OPT application back in \\nthe mail without talking to ISSS first!\\n\\nSpecial topics\\n1. International travel\\n2.  MVA/DMV\\n3. Ph.D. end dates\\n\\nSpecial topics\\n▪Before your OPT start date, the same rules apply to \\ninternational travel as when you were a full-time \\nstudent. You must carry your valid passport, visa, \\nand I-20 with a travel signature not older than 1 year.\\n▪After your OPT start date, you must ALSO carry \\nyour EAD card, a job offer letter or proof of \\nemployment, and your I-20 signature cannot be \\nolder than six months.\\n▪After your I-20 end date but before your OPT start \\ndate, no US Embassy or Consulate will renew your \\nvisa\\n▪So be sure to consult with ISSS regarding any travel \\nif you do not hold a valid F-1 visa\\n1. International travel\\n2.  MVA/DMV\\n3. Ph.D. end dates\\n\\nSpecial topics\\n▪It can be difficult to renew your driver’s license or \\nState ID Card while your OPT application is \\npending\\n▪When your I-20 end date has passed but your OPT \\nstart date has not yet arrived, you may have \\ndifficulty renewing your license\\n▪Be sure to complete the SAVE verification online \\nbefore you go to the MVA\\n▪There is a link to the SAVE verification form from \\nISSS’s website\\n1. International travel\\n2.  MVA/DMV\\n3. Ph.D. end dates\\n\\nSpecial topics\\n▪Doctoral students have some flexibility in their I-20 \\nend dates, as many students conduct ongoing \\ndissertation research during their OPT period\\n▪There is a type of OPT called pre-completion, \\nwhich, as the name suggests, is OPT authorization \\nbefore your academic program is complete and \\nyour I-20 end date arrives\\n▪ISSS generally discourages this option when full-\\ntime CPT is available, but we are more than happy \\nto discuss your options of you are an eligible Ph.D. \\nstudent\\n1. International travel\\n2.  MVA/DMV\\n3. Ph.D. end dates\\n\\nAfter OPT\\nPost-practical training options\\n\\nAfter OPT\\n1. STEM OPT\\n2.  I-20 transfer\\n3. Change of Ed Level\\n4. Leave US\\n\\nAfter OPT\\n▪Students in approved STEM disciplines have the \\noption of extending their year of OPT an additional \\ntwo years\\n▪You must submit another OPT application to \\nUSCIS before the end date of your post-\\ncompletion OPT and no earlier than 90 days \\nbefore that end date\\n▪Must show you have earned your degree OR that \\nyou have a thesis pending (ISSS cannot prove this)\\n▪Can only work for employers enrolled in E-Verify\\n▪Must submit I-983 Training Plan for each and \\nevery employer you work for during STEM OPT\\n▪See the ISSS website for further information about \\nSTEM OPT\\n1. STEM OPT\\n2.  I-20 transfer\\n3. Change of Ed Level\\n4. Leave US\\n\\nAfter OPT\\n▪When your OPT ends (or your STEM OPT ends, if \\nyou are eligible and apply), you have another 60-\\nday grace period, during which you cannot work \\nbut can legally remain in the US\\n▪You can choose to begin a new degree program, \\neither at UMBC through a Change of Education \\nLevel, or at another school through an I-20 transfer\\n▪If you do not wish to begin a new program, your F-1 \\nstatus requires that you leave the US within the 60-\\nday grace period\\n▪Instructions on changing your education level or \\ntransferring your I-20 to another school are \\navailable on the ISSS website\\n1. STEM OPT\\n2.  I-20 transfer\\n3. Change of Ed Level\\n4. Leave US\\n\\nQuestions?\\nNow’s the time to ask!\\n\\nOPT Application Process\\nSubmit through \\nUSCIS website\\n\\n'"
      ]
     },
     "execution_count": 29,
     "metadata": {},
     "output_type": "execute_result"
    }
   ],
   "source": [
    "unclean_text = extract_text_from_pdf(opt_workshop)\n",
    "unclean_text"
   ]
  },
  {
   "cell_type": "code",
   "execution_count": 30,
   "metadata": {},
   "outputs": [],
   "source": [
    "import re\n",
    "import unicodedata\n",
    "\n",
    "def clean_text_(text):\n",
    "    # text = text.replace(\"\\n\", \" \")  # Replace newlines with spaces\n",
    "    text = re.sub(r'\\s+', ' ', str(text))  # Remove extra spaces\n",
    "    return text.strip()  # Trim leading and trailing spaces\n",
    "\n",
    "def remove_special_chars(text):\n",
    "    text = re.sub(r'[^a-zA-Z0-9.,!?\\'\" ]', '', text)  # Keep letters, numbers, and common punctuation\n",
    "    return text\n",
    "\n",
    "def fix_hyphenation(text):\n",
    "    return re.sub(r'(\\w+)-\\s+(\\w+)', r'\\1\\2', text)  # Removes hyphenation across lines\n",
    "\n",
    "def normalize_unicode(text):\n",
    "    return unicodedata.normalize(\"NFKD\", text)\n",
    "\n",
    "def remove_headers_footers(text):\n",
    "    lines = text.split(\"\\n\")\n",
    "    cleaned_lines = [line for line in lines if not re.match(r'(Page \\d+|Confidential|Company Name)', line)]\n",
    "    return \" \".join(cleaned_lines)\n",
    "\n",
    "def normalize_text(text):\n",
    "    return \" \".join(text.lower().split())  # Lowercase and remove extra spaces\n",
    "\n",
    "def full_text_cleanup(text):\n",
    "    \"\"\"\"\n",
    "    Takes in unclean text and return cleaned text by applying a series of cleaning functions.\n",
    "    \n",
    "    \"\"\"\n",
    "    text = clean_text_(text)\n",
    "    text = fix_hyphenation(text)\n",
    "    text = remove_special_chars(text)\n",
    "    text = normalize_unicode(text)\n",
    "    text = remove_headers_footers(text)\n",
    "    text = normalize_text(text)\n",
    "    \n",
    "    return text"
   ]
  },
  {
   "cell_type": "code",
   "execution_count": 31,
   "metadata": {},
   "outputs": [
    {
     "data": {
      "text/plain": [
       "'opt a stepbystep guide what is opt? optional practical training work permission for 1 year with option to extend 2 years for stem degrees purpose is to gain experience in your field one year of opt per degree level must be progressively higher i.e. bachelor master doctoral opt application process submit through uscis website dont i need a job to apply for opt? no! why not?? uscis can take more than three months to review your opt application it would be way too late to apply if you waited to find a job first when can i apply? apply for opt during your last semester at umbc the earliest you can apply for opt is 90 days before your i20 end date the latest you can apply for opt is 60 days after your i20 end date spring grads fall grads earliest date feb 25 sept 25 i20 end date may 25 dec 23 latest date july 24 feb 20 approximate opt timeline by grad term another way to think about it i20 end date 90 days 60day grace period earliest date you can submit application latest date you can submit application dont wait until its too late! remember that many other students will want to apply for opt around the same time you do opt applications cannot be rushed we process applications as they come in, not based on your opt start date uscis can take more than 90 days to review your opt application choosing a start date i20 end date 90 days 60day grace period earliest date you can submit application opt start date can be any time during grace period if i dont have a job, how do i pick a start date? based on the job market or how much job hunting youve done so far allow time for application processing this can take more than 90 days consider travel and what you might do during break from school there is no way to guarantee uninterrupted work permission be open and honest with employers! remember you do not have to have a job on your opt start date ok, ive chosen a start date. now what? 1. review the isss website for application instructions and prepare your draft form i765 through the uscis online system. 2. complete and submit opt application through the isss portal 3. invite your academic advisor to approve your application through the isss portal 4. receive scanned opt i20 in your isss portal account, print out and sign it! 5. submit your complete application online through uscis.gov. 6. wait patiently! for approval after you apply, you receive 1. receipt available immediately through the uscis website once you make your payment and submit your application. 2. approval notice usually arrives after 2 3 months. can take longer. 3. ead card usually arrives about 1 week after approval notice im approved! way to go, you! what are the rules governing my opt time? you must be working! the expectation is that you will be working during your year of opt you also have up to 90 days of unemployment time, meaning it is ok not to have a job in your sevis record for up to 3 of your 12 months of opt all jobs during opt must be directly related to your umbc degree program parttime 20 hrs or fulltime, paid or unpaid all ok during opt you must be working at least 20 hours per week total to meet these requirements what are the rules governing my opt time? unlike cpt, you are allowed to change jobs at any time however, you must update your sevp portal account whenever you o change jobs o get a new job o end an earlier job o change your address sevp portal httpssevp.ice.govopt sevp portal sevp portal health insurance this is very serious you will no longer be automatically enrolled in umbcs health insurance you may be offered health insurance coverage from your employer, or you can look at thirdparty providers like iso, gateway usa, etc. you need to think about this! it is extremely risky to be in the us without health insurance. see about options your employer might have, or consider the healthcare marketplaces established through the affordable care act obamacare continuing education you are free to take classes during opt but you may not begin a new degree program, or your opt will automatically terminate. register for courses as a non degreeseeking or visiting student degreeseeking programs would require you to transfer your sevis record or change your education level, which automatically ends your opt approval got it. lets do this. ready to complete the opt application? optional practical training application visit the isss portal isssportal.umbc.edu click the button on your user account, or from the isss portal homepage, find the opt application under f1 students employment optional practical training opt optional practical training application you must complete all sections of the application before clicking submit. download draft snapshot of form i765 from uscis online account and upload to your opt request download draft snapshot of form i765 to generate a draft form i765, click the view draft snapshot button do not click the print button!! you can upload the draft snapshot to your opt request in the isss portal optional practical training application read and digitally sign the signature documents complete the opt student request form this is where youll indicate your preferred opt start date optional practical training application you must send an electronic request to your academicdepartment advisor through the isss portal. your advisor will verify your eligibility for opt. click request electronic recommendation optional practical training application use the umbc directory lookup section on the next page to look up your academic advisor. you should only enter your advisors details manually if you cannot find them through the directory lookup. try not to use the manual entry feature. review by isss if you have detailed questions or doubts about opt contact isss ahead of time, before submitting all your opt application through the isss portal. you cannot apply for opt in person at the isss office everything must be handled through the isss portal. isss advisors review the draft snapshot of your form i765 when we process your opt request. we will let you know if your draft i765 requires any edits. optional practical training application once isss reviews your application, the data will be sent overnight to sevis. once processed through sevis, we will upload your new, signed opt i20 to the attached documents section of your opt application. important! once you receive your opt i20 in the isss portal, you must check the employment authorizations box on page 2 to be sure that a postcompletion opt request has been added and to verify that your chosen start date is listed. failure to check this can result in your opt application being denied by uscis! if there are any errors, contact isss via help ticket or live chat assembling your opt application package once you receive your signed opt i20 in your isss portal account, you can print, sign, and include that i20 in the opt application package you sent to uscis. on the isss website, you will find a list of all the other application requirements. in brief. form i765 this is the primary form in your opt application, the application for employment authorization. we recommend online filing through the uscis application system, not filling out the pdf and mailing it to uscis. if you choose to file by mail, be sure to download the latest edition of the form i765 from usciss website httpswww.uscis.govi765 never use a form that a friend sends you or that you found on the website of an international student office or message board. these are often out of date. forms i20 uscis requires opt applicants to include certain information in the additional information section of the form i765. list any periods of cpt or opt approved in the past and include the dates of the approval, as well as the academic level at which it was approved e.g. bachelors, masters, doctorate. uscis recommends uploading a copy of any forms i20 showing work authorization. if you ever held f1 status with a different sevis id number, you must enter it here. note isss does not maintain copies of all the i20s youve been issued that is your responsibility! i94 available online search for i94 choose .gov site enter name exactly as it appears on your f1 student visa copy passport number and issuing country from your passport click next. i94 available online search for i94, choose .gov site enter name exactly as it appears on your f1 student visa copy passport number and issuing country from your passport click next. this is your i94 record! i94 the admission i94 record number will be entered on the form i765 you can also view your travel history through this site the most recent entry record will also be entered on the form i765 passport and visa make photocopies of your current passport and f1 student visa if your f1 visa is in an older passport, include copies of both old and new passport in your application your f1 visa can be expired your passport cannot be expired and should generally have at least 6 months of validity remaining. now, file online! once you have your opt i20 from isss, you can submit your application online its very important to check the uscis website for the proper mailing address httpswww.uscis.govi765addresses see here for detailed instructions to efile your opt application with uscis httpsisss.umbc.eduoptapplicationinformationchecklist after submitting your application if you receive a request for evidence rfe, a notice of intent to deny noid, or your application is returned to you, you must notify isss as soon as possible so that we can help you to understand the response from uscis and help you to resolve or refile, if necessary. send us a copy of whatever you receive from uscis. there are very tight deadlines, so be sure to notify isss as soon as possible whatever you do, do not put a denied or rejected opt application back in the mail without talking to isss first! special topics 1. international travel 2. mvadmv 3. ph.d. end dates special topics before your opt start date, the same rules apply to international travel as when you were a fulltime student. you must carry your valid passport, visa, and i20 with a travel signature not older than 1 year. after your opt start date, you must also carry your ead card, a job offer letter or proof of employment, and your i20 signature cannot be older than six months. after your i20 end date but before your opt start date, no us embassy or consulate will renew your visa so be sure to consult with isss regarding any travel if you do not hold a valid f1 visa 1. international travel 2. mvadmv 3. ph.d. end dates special topics it can be difficult to renew your drivers license or state id card while your opt application is pending when your i20 end date has passed but your opt start date has not yet arrived, you may have difficulty renewing your license be sure to complete the save verification online before you go to the mva there is a link to the save verification form from issss website 1. international travel 2. mvadmv 3. ph.d. end dates special topics doctoral students have some flexibility in their i20 end dates, as many students conduct ongoing dissertation research during their opt period there is a type of opt called precompletion, which, as the name suggests, is opt authorization before your academic program is complete and your i20 end date arrives isss generally discourages this option when fulltime cpt is available, but we are more than happy to discuss your options of you are an eligible ph.d. student 1. international travel 2. mvadmv 3. ph.d. end dates after opt postpractical training options after opt 1. stem opt 2. i20 transfer 3. change of ed level 4. leave us after opt students in approved stem disciplines have the option of extending their year of opt an additional two years you must submit another opt application to uscis before the end date of your postcompletion opt and no earlier than 90 days before that end date must show you have earned your degree or that you have a thesis pending isss cannot prove this can only work for employers enrolled in everify must submit i983 training plan for each and every employer you work for during stem opt see the isss website for further information about stem opt 1. stem opt 2. i20 transfer 3. change of ed level 4. leave us after opt when your opt ends or your stem opt ends, if you are eligible and apply, you have another 60day grace period, during which you cannot work but can legally remain in the us you can choose to begin a new degree program, either at umbc through a change of education level, or at another school through an i20 transfer if you do not wish to begin a new program, your f1 status requires that you leave the us within the 60day grace period instructions on changing your education level or transferring your i20 to another school are available on the isss website 1. stem opt 2. i20 transfer 3. change of ed level 4. leave us questions? nows the time to ask! opt application process submit through uscis website'"
      ]
     },
     "execution_count": 31,
     "metadata": {},
     "output_type": "execute_result"
    }
   ],
   "source": [
    "clean_text = full_text_cleanup(unclean_text)\n",
    "clean_text"
   ]
  },
  {
   "cell_type": "code",
   "execution_count": 32,
   "metadata": {},
   "outputs": [
    {
     "name": "stdout",
     "output_type": "stream",
     "text": [
      "['opt a stepbystep guide what is opt?\\n\\noptional practical training work permission for 1 year with option to extend 2 years for stem degrees purpose is to gain experience in your field one year of opt per degree level must be progressively higher i.e.\\n\\nbachelor master doctoral opt application process submit through uscis website dont i need a job to apply for opt?\\n\\nno!\\n\\nwhy not??\\n\\nuscis can take more than three months to review your opt application it would be way too late to apply if you waited to find a job first when can i apply?\\n\\napply for opt during your last semester at umbc the earliest you can apply for opt is 90 days before your i20 end date the latest you can apply for opt is 60 days after your i20 end date spring grads fall grads earliest date feb 25 sept 25 i20 end date may 25 dec 23 latest date july 24 feb 20 approximate opt timeline by grad term another way to think about it i20 end date 90 days 60day grace period earliest date you can submit application latest date you can submit application dont wait until its too late!\\n\\nremember that many other students will want to apply for opt around the same time you do opt applications cannot be rushed we process applications as they come in, not based on your opt start date uscis can take more than 90 days to review your opt application choosing a start date i20 end date 90 days 60day grace period earliest date you can submit application opt start date can be any time during grace period if i dont have a job, how do i pick a start date?\\n\\nbased on the job market or how much job hunting youve done so far allow time for application processing this can take more than 90 days consider travel and what you might do during break from school there is no way to guarantee uninterrupted work permission be open and honest with employers!\\n\\nremember you do not have to have a job on your opt start date ok, ive chosen a start date.\\n\\nnow what?\\n\\n1. review the isss website for application instructions and prepare your draft form i765 through the uscis online system.\\n\\n2. complete and submit opt application through the isss portal 3. invite your academic advisor to approve your application through the isss portal 4. receive scanned opt i20 in your isss portal account, print out and sign it!\\n\\n5. submit your complete application online through uscis.gov.\\n\\n6. wait patiently!\\n\\nfor approval after you apply, you receive 1. receipt available immediately through the uscis website once you make your payment and submit your application.\\n\\n2. approval notice usually arrives after 2 3 months.\\n\\ncan take longer.\\n\\n3. ead card usually arrives about 1 week after approval notice im approved!\\n\\nway to go, you!\\n\\nwhat are the rules governing my opt time?\\n\\nyou must be working!\\n\\nthe expectation is that you will be working during your year of opt you also have up to 90 days of unemployment time, meaning it is ok not to have a job in your sevis record for up to 3 of your 12 months of opt all jobs during opt must be directly related to your umbc degree program parttime 20 hrs or fulltime, paid or unpaid all ok during opt you must be working at least 20 hours per week total to meet these requirements what are the rules governing my opt time?\\n\\nunlike cpt, you are allowed to change jobs at any time however, you must update your sevp portal account whenever you o change jobs o get a new job o end an earlier job o change your address sevp portal httpssevp.ice.govopt sevp portal sevp portal health insurance this is very serious you will no longer be automatically enrolled in umbcs health insurance you may be offered health insurance coverage from your employer, or you can look at thirdparty providers like iso, gateway usa, etc.\\n\\nyou need to think about this!\\n\\nit is extremely risky to be in the us without health insurance.', 'you need to think about this!\\n\\nit is extremely risky to be in the us without health insurance.\\n\\nsee about options your employer might have, or consider the healthcare marketplaces established through the affordable care act obamacare continuing education you are free to take classes during opt but you may not begin a new degree program, or your opt will automatically terminate.\\n\\nregister for courses as a non degreeseeking or visiting student degreeseeking programs would require you to transfer your sevis record or change your education level, which automatically ends your opt approval got it.\\n\\nlets do this.\\n\\nready to complete the opt application?\\n\\noptional practical training application visit the isss portal isssportal.umbc.edu click the button on your user account, or from the isss portal homepage, find the opt application under f1 students employment optional practical training opt optional practical training application you must complete all sections of the application before clicking submit.\\n\\ndownload draft snapshot of form i765 from uscis online account and upload to your opt request download draft snapshot of form i765 to generate a draft form i765, click the view draft snapshot button do not click the print button!!\\n\\nyou can upload the draft snapshot to your opt request in the isss portal optional practical training application read and digitally sign the signature documents complete the opt student request form this is where youll indicate your preferred opt start date optional practical training application you must send an electronic request to your academicdepartment advisor through the isss portal.\\n\\nyour advisor will verify your eligibility for opt.\\n\\nclick request electronic recommendation optional practical training application use the umbc directory lookup section on the next page to look up your academic advisor.\\n\\nyou should only enter your advisors details manually if you cannot find them through the directory lookup.\\n\\ntry not to use the manual entry feature.\\n\\nreview by isss if you have detailed questions or doubts about opt contact isss ahead of time, before submitting all your opt application through the isss portal.\\n\\nyou cannot apply for opt in person at the isss office everything must be handled through the isss portal.\\n\\nisss advisors review the draft snapshot of your form i765 when we process your opt request.\\n\\nwe will let you know if your draft i765 requires any edits.\\n\\noptional practical training application once isss reviews your application, the data will be sent overnight to sevis.\\n\\nonce processed through sevis, we will upload your new, signed opt i20 to the attached documents section of your opt application.\\n\\nimportant!\\n\\nonce you receive your opt i20 in the isss portal, you must check the employment authorizations box on page 2 to be sure that a postcompletion opt request has been added and to verify that your chosen start date is listed.\\n\\nfailure to check this can result in your opt application being denied by uscis!\\n\\nif there are any errors, contact isss via help ticket or live chat assembling your opt application package once you receive your signed opt i20 in your isss portal account, you can print, sign, and include that i20 in the opt application package you sent to uscis.\\n\\non the isss website, you will find a list of all the other application requirements.\\n\\nin brief.\\n\\nform i765 this is the primary form in your opt application, the application for employment authorization.\\n\\nwe recommend online filing through the uscis application system, not filling out the pdf and mailing it to uscis.\\n\\nif you choose to file by mail, be sure to download the latest edition of the form i765 from usciss website httpswww.uscis.govi765 never use a form that a friend sends you or that you found on the website of an international student office or message board.\\n\\nthese are often out of date.\\n\\nforms i20 uscis requires opt applicants to include certain information in the additional information section of the form i765.', 'these are often out of date.\\n\\nforms i20 uscis requires opt applicants to include certain information in the additional information section of the form i765.\\n\\nlist any periods of cpt or opt approved in the past and include the dates of the approval, as well as the academic level at which it was approved e.g.\\n\\nbachelors, masters, doctorate.\\n\\nuscis recommends uploading a copy of any forms i20 showing work authorization.\\n\\nif you ever held f1 status with a different sevis id number, you must enter it here.\\n\\nnote isss does not maintain copies of all the i20s youve been issued that is your responsibility!\\n\\ni94 available online search for i94 choose .gov site enter name exactly as it appears on your f1 student visa copy passport number and issuing country from your passport click next.\\n\\ni94 available online search for i94, choose .gov site enter name exactly as it appears on your f1 student visa copy passport number and issuing country from your passport click next.\\n\\nthis is your i94 record!\\n\\ni94 the admission i94 record number will be entered on the form i765 you can also view your travel history through this site the most recent entry record will also be entered on the form i765 passport and visa make photocopies of your current passport and f1 student visa if your f1 visa is in an older passport, include copies of both old and new passport in your application your f1 visa can be expired your passport cannot be expired and should generally have at least 6 months of validity remaining.\\n\\nnow, file online!\\n\\nonce you have your opt i20 from isss, you can submit your application online its very important to check the uscis website for the proper mailing address httpswww.uscis.govi765addresses see here for detailed instructions to efile your opt application with uscis httpsisss.umbc.eduoptapplicationinformationchecklist after submitting your application if you receive a request for evidence rfe, a notice of intent to deny noid, or your application is returned to you, you must notify isss as soon as possible so that we can help you to understand the response from uscis and help you to resolve or refile, if necessary.\\n\\nsend us a copy of whatever you receive from uscis.\\n\\nthere are very tight deadlines, so be sure to notify isss as soon as possible whatever you do, do not put a denied or rejected opt application back in the mail without talking to isss first!\\n\\nspecial topics 1. international travel 2. mvadmv 3. ph.d. end dates special topics before your opt start date, the same rules apply to international travel as when you were a fulltime student.\\n\\nyou must carry your valid passport, visa, and i20 with a travel signature not older than 1 year.\\n\\nafter your opt start date, you must also carry your ead card, a job offer letter or proof of employment, and your i20 signature cannot be older than six months.', 'after your opt start date, you must also carry your ead card, a job offer letter or proof of employment, and your i20 signature cannot be older than six months.\\n\\nafter your i20 end date but before your opt start date, no us embassy or consulate will renew your visa so be sure to consult with isss regarding any travel if you do not hold a valid f1 visa 1. international travel 2. mvadmv 3. ph.d. end dates special topics it can be difficult to renew your drivers license or state id card while your opt application is pending when your i20 end date has passed but your opt start date has not yet arrived, you may have difficulty renewing your license be sure to complete the save verification online before you go to the mva there is a link to the save verification form from issss website 1. international travel 2. mvadmv 3. ph.d. end dates special topics doctoral students have some flexibility in their i20 end dates, as many students conduct ongoing dissertation research during their opt period there is a type of opt called precompletion, which, as the name suggests, is opt authorization before your academic program is complete and your i20 end date arrives isss generally discourages this option when fulltime cpt is available, but we are more than happy to discuss your options of you are an eligible ph.d. student 1. international travel 2. mvadmv 3. ph.d. end dates after opt postpractical training options after opt 1. stem opt 2. i20 transfer 3. change of ed level 4. leave us after opt students in approved stem disciplines have the option of extending their year of opt an additional two years you must submit another opt application to uscis before the end date of your postcompletion opt and no earlier than 90 days before that end date must show you have earned your degree or that you have a thesis pending isss cannot prove this can only work for employers enrolled in everify must submit i983 training plan for each and every employer you work for during stem opt see the isss website for further information about stem opt 1. stem opt 2. i20 transfer 3. change of ed level 4. leave us after opt when your opt ends or your stem opt ends, if you are eligible and apply, you have another 60day grace period, during which you cannot work but can legally remain in the us you can choose to begin a new degree program, either at umbc through a change of education level, or at another school through an i20 transfer if you do not wish to begin a new program, your f1 status requires that you leave the us within the 60day grace period instructions on changing your education level or transferring your i20 to another school are available on the isss website 1. stem opt 2. i20 transfer 3. change of ed level 4. leave us questions?\\n\\nnows the time to ask!\\n\\nopt application process submit through uscis website']\n"
     ]
    }
   ],
   "source": [
    "from langchain.text_splitter import NLTKTextSplitter\n",
    "def split_text_into_sentences(text):\n",
    "    \"\"\"Splits text into sentences using NLTKTextSplitter.\"\"\"\n",
    "    text_splitter = NLTKTextSplitter()\n",
    "    return text_splitter.split_text(text)\n",
    "\n",
    "sentences = split_text_into_sentences(clean_text)\n",
    "print(sentences)"
   ]
  },
  {
   "cell_type": "code",
   "execution_count": 35,
   "metadata": {},
   "outputs": [
    {
     "data": {
      "text/plain": [
       "['opt a stepbystep guide what is opt?  optional practical training work permission for 1 year with option to extend 2 years for stem degrees purpose is to gain experience in your field one year of opt per degree level must be progressively higher i.e.  bachelor master doctoral opt application process submit through uscis website dont i need a job to apply for opt?  no!  why not??  uscis can take more than three months to review your opt application it would be way too late to apply if you waited to find a job first when can i apply?  apply for opt during your last semester at umbc the earliest you can apply for opt is 90 days before your i20 end date the latest you can apply for opt is 60 days after your i20 end date spring grads fall grads earliest date feb 25 sept 25 i20 end date may 25 dec 23 latest date july 24 feb 20 approximate opt timeline by grad term another way to think about it i20 end date 90 days 60day grace period earliest date you can submit application latest date you can submit application dont wait until its too late!  remember that many other students will want to apply for opt around the same time you do opt applications cannot be rushed we process applications as they come in, not based on your opt start date uscis can take more than 90 days to review your opt application choosing a start date i20 end date 90 days 60day grace period earliest date you can submit application opt start date can be any time during grace period if i dont have a job, how do i pick a start date?  based on the job market or how much job hunting youve done so far allow time for application processing this can take more than 90 days consider travel and what you might do during break from school there is no way to guarantee uninterrupted work permission be open and honest with employers!  remember you do not have to have a job on your opt start date ok, ive chosen a start date.  now what?  1. review the isss website for application instructions and prepare your draft form i765 through the uscis online system.  2. complete and submit opt application through the isss portal 3. invite your academic advisor to approve your application through the isss portal 4. receive scanned opt i20 in your isss portal account, print out and sign it!  5. submit your complete application online through uscis.gov.  6. wait patiently!  for approval after you apply, you receive 1. receipt available immediately through the uscis website once you make your payment and submit your application.  2. approval notice usually arrives after 2 3 months.  can take longer.  3. ead card usually arrives about 1 week after approval notice im approved!  way to go, you!  what are the rules governing my opt time?  you must be working!  the expectation is that you will be working during your year of opt you also have up to 90 days of unemployment time, meaning it is ok not to have a job in your sevis record for up to 3 of your 12 months of opt all jobs during opt must be directly related to your umbc degree program parttime 20 hrs or fulltime, paid or unpaid all ok during opt you must be working at least 20 hours per week total to meet these requirements what are the rules governing my opt time?  unlike cpt, you are allowed to change jobs at any time however, you must update your sevp portal account whenever you o change jobs o get a new job o end an earlier job o change your address sevp portal httpssevp.ice.govopt sevp portal sevp portal health insurance this is very serious you will no longer be automatically enrolled in umbcs health insurance you may be offered health insurance coverage from your employer, or you can look at thirdparty providers like iso, gateway usa, etc.  you need to think about this!  it is extremely risky to be in the us without health insurance.',\n",
       " 'you need to think about this!  it is extremely risky to be in the us without health insurance.  see about options your employer might have, or consider the healthcare marketplaces established through the affordable care act obamacare continuing education you are free to take classes during opt but you may not begin a new degree program, or your opt will automatically terminate.  register for courses as a non degreeseeking or visiting student degreeseeking programs would require you to transfer your sevis record or change your education level, which automatically ends your opt approval got it.  lets do this.  ready to complete the opt application?  optional practical training application visit the isss portal isssportal.umbc.edu click the button on your user account, or from the isss portal homepage, find the opt application under f1 students employment optional practical training opt optional practical training application you must complete all sections of the application before clicking submit.  download draft snapshot of form i765 from uscis online account and upload to your opt request download draft snapshot of form i765 to generate a draft form i765, click the view draft snapshot button do not click the print button!!  you can upload the draft snapshot to your opt request in the isss portal optional practical training application read and digitally sign the signature documents complete the opt student request form this is where youll indicate your preferred opt start date optional practical training application you must send an electronic request to your academicdepartment advisor through the isss portal.  your advisor will verify your eligibility for opt.  click request electronic recommendation optional practical training application use the umbc directory lookup section on the next page to look up your academic advisor.  you should only enter your advisors details manually if you cannot find them through the directory lookup.  try not to use the manual entry feature.  review by isss if you have detailed questions or doubts about opt contact isss ahead of time, before submitting all your opt application through the isss portal.  you cannot apply for opt in person at the isss office everything must be handled through the isss portal.  isss advisors review the draft snapshot of your form i765 when we process your opt request.  we will let you know if your draft i765 requires any edits.  optional practical training application once isss reviews your application, the data will be sent overnight to sevis.  once processed through sevis, we will upload your new, signed opt i20 to the attached documents section of your opt application.  important!  once you receive your opt i20 in the isss portal, you must check the employment authorizations box on page 2 to be sure that a postcompletion opt request has been added and to verify that your chosen start date is listed.  failure to check this can result in your opt application being denied by uscis!  if there are any errors, contact isss via help ticket or live chat assembling your opt application package once you receive your signed opt i20 in your isss portal account, you can print, sign, and include that i20 in the opt application package you sent to uscis.  on the isss website, you will find a list of all the other application requirements.  in brief.  form i765 this is the primary form in your opt application, the application for employment authorization.  we recommend online filing through the uscis application system, not filling out the pdf and mailing it to uscis.  if you choose to file by mail, be sure to download the latest edition of the form i765 from usciss website httpswww.uscis.govi765 never use a form that a friend sends you or that you found on the website of an international student office or message board.  these are often out of date.  forms i20 uscis requires opt applicants to include certain information in the additional information section of the form i765.',\n",
       " 'these are often out of date.  forms i20 uscis requires opt applicants to include certain information in the additional information section of the form i765.  list any periods of cpt or opt approved in the past and include the dates of the approval, as well as the academic level at which it was approved e.g.  bachelors, masters, doctorate.  uscis recommends uploading a copy of any forms i20 showing work authorization.  if you ever held f1 status with a different sevis id number, you must enter it here.  note isss does not maintain copies of all the i20s youve been issued that is your responsibility!  i94 available online search for i94 choose .gov site enter name exactly as it appears on your f1 student visa copy passport number and issuing country from your passport click next.  i94 available online search for i94, choose .gov site enter name exactly as it appears on your f1 student visa copy passport number and issuing country from your passport click next.  this is your i94 record!  i94 the admission i94 record number will be entered on the form i765 you can also view your travel history through this site the most recent entry record will also be entered on the form i765 passport and visa make photocopies of your current passport and f1 student visa if your f1 visa is in an older passport, include copies of both old and new passport in your application your f1 visa can be expired your passport cannot be expired and should generally have at least 6 months of validity remaining.  now, file online!  once you have your opt i20 from isss, you can submit your application online its very important to check the uscis website for the proper mailing address httpswww.uscis.govi765addresses see here for detailed instructions to efile your opt application with uscis httpsisss.umbc.eduoptapplicationinformationchecklist after submitting your application if you receive a request for evidence rfe, a notice of intent to deny noid, or your application is returned to you, you must notify isss as soon as possible so that we can help you to understand the response from uscis and help you to resolve or refile, if necessary.  send us a copy of whatever you receive from uscis.  there are very tight deadlines, so be sure to notify isss as soon as possible whatever you do, do not put a denied or rejected opt application back in the mail without talking to isss first!  special topics 1. international travel 2. mvadmv 3. ph.d. end dates special topics before your opt start date, the same rules apply to international travel as when you were a fulltime student.  you must carry your valid passport, visa, and i20 with a travel signature not older than 1 year.  after your opt start date, you must also carry your ead card, a job offer letter or proof of employment, and your i20 signature cannot be older than six months.',\n",
       " 'after your opt start date, you must also carry your ead card, a job offer letter or proof of employment, and your i20 signature cannot be older than six months.  after your i20 end date but before your opt start date, no us embassy or consulate will renew your visa so be sure to consult with isss regarding any travel if you do not hold a valid f1 visa 1. international travel 2. mvadmv 3. ph.d. end dates special topics it can be difficult to renew your drivers license or state id card while your opt application is pending when your i20 end date has passed but your opt start date has not yet arrived, you may have difficulty renewing your license be sure to complete the save verification online before you go to the mva there is a link to the save verification form from issss website 1. international travel 2. mvadmv 3. ph.d. end dates special topics doctoral students have some flexibility in their i20 end dates, as many students conduct ongoing dissertation research during their opt period there is a type of opt called precompletion, which, as the name suggests, is opt authorization before your academic program is complete and your i20 end date arrives isss generally discourages this option when fulltime cpt is available, but we are more than happy to discuss your options of you are an eligible ph.d. student 1. international travel 2. mvadmv 3. ph.d. end dates after opt postpractical training options after opt 1. stem opt 2. i20 transfer 3. change of ed level 4. leave us after opt students in approved stem disciplines have the option of extending their year of opt an additional two years you must submit another opt application to uscis before the end date of your postcompletion opt and no earlier than 90 days before that end date must show you have earned your degree or that you have a thesis pending isss cannot prove this can only work for employers enrolled in everify must submit i983 training plan for each and every employer you work for during stem opt see the isss website for further information about stem opt 1. stem opt 2. i20 transfer 3. change of ed level 4. leave us after opt when your opt ends or your stem opt ends, if you are eligible and apply, you have another 60day grace period, during which you cannot work but can legally remain in the us you can choose to begin a new degree program, either at umbc through a change of education level, or at another school through an i20 transfer if you do not wish to begin a new program, your f1 status requires that you leave the us within the 60day grace period instructions on changing your education level or transferring your i20 to another school are available on the isss website 1. stem opt 2. i20 transfer 3. change of ed level 4. leave us questions?  nows the time to ask!  opt application process submit through uscis website']"
      ]
     },
     "execution_count": 35,
     "metadata": {},
     "output_type": "execute_result"
    }
   ],
   "source": [
    "# Using Langchain to extract text \n",
    "from langchain.document_loaders import PyMuPDFLoader\n",
    "from langchain.text_splitter import CharacterTextSplitter\n",
    "from langchain.text_splitter import NLTKTextSplitter\n",
    "\n",
    "def extract_text_langchain(pdf_path):\n",
    "    loader = PyMuPDFLoader(pdf_path)\n",
    "    documents = loader.load()\n",
    "    return \"\\n\".join([doc.page_content for doc in documents])\n",
    "\n",
    "\n",
    "def lang_clean_text(text):\n",
    "    # text = text.replace(\"\\n\", \" \").strip()  \n",
    "    text = full_text_cleanup(text)\n",
    "    text_splitter = CharacterTextSplitter(chunk_size=100, chunk_overlap=20)\n",
    "    return text_splitter.split_text(text)\n",
    "\n",
    "def split_text_into_sentences(text):\n",
    "    \"\"\"Splits text into sentences using NLTKTextSplitter.\"\"\"\n",
    "    text_splitter = NLTKTextSplitter()\n",
    "    sentences = text_splitter.split_text(text)\n",
    "    cleaned_sentences = [sentence.replace(\"\\n\", \" \") for sentence in sentences]\n",
    "    return cleaned_sentences\n",
    "\n",
    "lang_text = extract_text_langchain(opt_workshop)\n",
    "lang_cleaned_text = lang_clean_text(lang_text)\n",
    "lang_sentences = split_text_into_sentences(lang_cleaned_text[0])\n",
    "\n",
    "lang_sentences"
   ]
  },
  {
   "cell_type": "code",
   "execution_count": 36,
   "metadata": {},
   "outputs": [
    {
     "name": "stderr",
     "output_type": "stream",
     "text": [
      "Insert of existing embedding ID: 0\n",
      "Add of existing embedding ID: 0\n"
     ]
    }
   ],
   "source": [
    "import chromadb\n",
    "chroma_client = chromadb.Client()\n",
    "\n",
    "sentence_chunks = lang_sentences\n",
    "\n",
    "collection = chroma_client.get_or_create_collection(name=\"my_collection\")\n",
    "collection.add(\n",
    "    documents=sentence_chunks,\n",
    "    ids=[f\"{i}\" for i in range(len(sentence_chunks))]\n",
    ")\n"
   ]
  },
  {
   "cell_type": "code",
   "execution_count": 37,
   "metadata": {},
   "outputs": [
    {
     "name": "stdout",
     "output_type": "stream",
     "text": [
      "[['you need to think about this!  it is extremely risky to be in the us without health insurance.  see about options your employer might have, or consider the healthcare marketplaces established through the affordable care act obamacare continuing education you are free to take classes during opt but you may not begin a new degree program, or your opt will automatically terminate.  register for courses as a non degreeseeking or visiting student degreeseeking programs would require you to transfer your sevis record or change your education level, which automatically ends your opt approval got it.  lets do this.  ready to complete the opt application?  optional practical training application visit the isss portal isssportal.umbc.edu click the button on your user account, or from the isss portal homepage, find the opt application under f1 students employment optional practical training opt optional practical training application you must complete all sections of the application before clicking submit.  download draft snapshot of form i765 from uscis online account and upload to your opt request download draft snapshot of form i765 to generate a draft form i765, click the view draft snapshot button do not click the print button!!  you can upload the draft snapshot to your opt request in the isss portal optional practical training application read and digitally sign the signature documents complete the opt student request form this is where youll indicate your preferred opt start date optional practical training application you must send an electronic request to your academicdepartment advisor through the isss portal.  your advisor will verify your eligibility for opt.  click request electronic recommendation optional practical training application use the umbc directory lookup section on the next page to look up your academic advisor.  you should only enter your advisors details manually if you cannot find them through the directory lookup.  try not to use the manual entry feature.  review by isss if you have detailed questions or doubts about opt contact isss ahead of time, before submitting all your opt application through the isss portal.  you cannot apply for opt in person at the isss office everything must be handled through the isss portal.  isss advisors review the draft snapshot of your form i765 when we process your opt request.  we will let you know if your draft i765 requires any edits.  optional practical training application once isss reviews your application, the data will be sent overnight to sevis.  once processed through sevis, we will upload your new, signed opt i20 to the attached documents section of your opt application.  important!  once you receive your opt i20 in the isss portal, you must check the employment authorizations box on page 2 to be sure that a postcompletion opt request has been added and to verify that your chosen start date is listed.  failure to check this can result in your opt application being denied by uscis!  if there are any errors, contact isss via help ticket or live chat assembling your opt application package once you receive your signed opt i20 in your isss portal account, you can print, sign, and include that i20 in the opt application package you sent to uscis.  on the isss website, you will find a list of all the other application requirements.  in brief.  form i765 this is the primary form in your opt application, the application for employment authorization.  we recommend online filing through the uscis application system, not filling out the pdf and mailing it to uscis.  if you choose to file by mail, be sure to download the latest edition of the form i765 from usciss website httpswww.uscis.govi765 never use a form that a friend sends you or that you found on the website of an international student office or message board.  these are often out of date.  forms i20 uscis requires opt applicants to include certain information in the additional information section of the form i765.', 'after your opt start date, you must also carry your ead card, a job offer letter or proof of employment, and your i20 signature cannot be older than six months.  after your i20 end date but before your opt start date, no us embassy or consulate will renew your visa so be sure to consult with isss regarding any travel if you do not hold a valid f1 visa 1. international travel 2. mvadmv 3. ph.d. end dates special topics it can be difficult to renew your drivers license or state id card while your opt application is pending when your i20 end date has passed but your opt start date has not yet arrived, you may have difficulty renewing your license be sure to complete the save verification online before you go to the mva there is a link to the save verification form from issss website 1. international travel 2. mvadmv 3. ph.d. end dates special topics doctoral students have some flexibility in their i20 end dates, as many students conduct ongoing dissertation research during their opt period there is a type of opt called precompletion, which, as the name suggests, is opt authorization before your academic program is complete and your i20 end date arrives isss generally discourages this option when fulltime cpt is available, but we are more than happy to discuss your options of you are an eligible ph.d. student 1. international travel 2. mvadmv 3. ph.d. end dates after opt postpractical training options after opt 1. stem opt 2. i20 transfer 3. change of ed level 4. leave us after opt students in approved stem disciplines have the option of extending their year of opt an additional two years you must submit another opt application to uscis before the end date of your postcompletion opt and no earlier than 90 days before that end date must show you have earned your degree or that you have a thesis pending isss cannot prove this can only work for employers enrolled in everify must submit i983 training plan for each and every employer you work for during stem opt see the isss website for further information about stem opt 1. stem opt 2. i20 transfer 3. change of ed level 4. leave us after opt when your opt ends or your stem opt ends, if you are eligible and apply, you have another 60day grace period, during which you cannot work but can legally remain in the us you can choose to begin a new degree program, either at umbc through a change of education level, or at another school through an i20 transfer if you do not wish to begin a new program, your f1 status requires that you leave the us within the 60day grace period instructions on changing your education level or transferring your i20 to another school are available on the isss website 1. stem opt 2. i20 transfer 3. change of ed level 4. leave us questions?  nows the time to ask!  opt application process submit through uscis website']]\n"
     ]
    }
   ],
   "source": [
    "results = collection.query(\n",
    "    query_texts=[\"How to apply opt at umbc\"], # Chroma will embed this for you\n",
    "    n_results=2 # how many results to return\n",
    ")\n",
    "\n",
    "print(results[\"documents\"])"
   ]
  },
  {
   "cell_type": "markdown",
   "metadata": {},
   "source": [
    "# LLM Intergration "
   ]
  },
  {
   "cell_type": "code",
   "execution_count": 38,
   "metadata": {},
   "outputs": [],
   "source": [
    "import requests\n",
    "import json\n",
    "\n",
    "def ask_ollama(query, context=None):\n",
    "\n",
    "    context = \"-\".join(context) if context else \"No context provided.\"\n",
    "    \n",
    "    prompt = f\"\"\"\n",
    "            You are an advanced Retrieval-Augmented Generation (RAG) system designed to provide highly accurate and contextually relevant responses. Use *only* the information provided in the context below to generate your answer. Do not use any prior knowledge or external sources. If the context does not contain enough information to answer the question, explicitly state: \"I cannot answer this question based on the provided information.\"\n",
    "\n",
    "            ## Instructions:\n",
    "            - Analyze the retrieved context carefully to extract the most relevant details.\n",
    "            - Ensure that your answer is comprehensive, well-structured, and directly addresses the user's question.\n",
    "            - If multiple pieces of evidence exist in the context, synthesize them for a cohesive response.\n",
    "            - If the context is unclear, ambiguous, or conflicting, acknowledge this uncertainty in your response.\n",
    "            - Do not assume or infer facts beyond what is stated in the provided context.\n",
    "\n",
    "            ## Context:\n",
    "            {context}\n",
    "\n",
    "            ## Question:\n",
    "            {query}\n",
    "\n",
    "            ## Answer:\n",
    "            \"\"\"\n",
    "    \n",
    "    grok_prompt = f\"\"\"\n",
    "        ### Prompt for RAG System\n",
    "\n",
    "            **Instruction:**\n",
    "            You are an AI designed to answer queries using a two-step process involving context retrieval and knowledge-based answering. Here's how you should proceed:\n",
    "\n",
    "            1. **Context Retrieval (Step 1):**\n",
    "            - **Context:** {context}\n",
    "            - **Query:** {query}\n",
    "\n",
    "            First, attempt to answer the query using the provided context. Look for relevant information within the context that directly relates to the query. If you can answer the query comprehensively using only this context, do so. If you cannot:\n",
    "\n",
    "            2. **Knowledge-Based Answer (Step 2):**\n",
    "            - If the context does not provide enough information to answer the query accurately, or if the query is not adequately addressed by the context, use your pre-existing knowledge to answer the query. \n",
    "            - Be clear that you are now using your knowledge by starting your response with \"Based on my knowledge:\".\n",
    "\n",
    "            **Guidelines:**\n",
    "            - **Accuracy:** Prioritize accuracy. If the context does not provide a clear answer and your knowledge is uncertain or outdated, acknowledge this by saying, \"I'm not certain about this, but based on my knowledge:\".\n",
    "            - **Completeness:** If part of the query can be answered with context but not fully, use context for what you can and supplement with knowledge.\n",
    "            - **Citations:** When answering from context, if possible, reference or quote directly from the context by using quotation marks or by specifying where in the context the answer was found (e.g., \"According to the context...\").\n",
    "            - **Admit Limitations:** If neither the context nor your knowledge can provide an answer, admit this by saying, \"I do not have enough information to answer this query adequately.\"\n",
    "\n",
    "            **Example Response Formats:**\n",
    "\n",
    "            - **From Context:** \"The context states that the boiling point of water at sea level is 100°C.\"\n",
    "            - **From Knowledge:** \"Based on my knowledge, the average adult human body contains approximately 60% water.\"\n",
    "            - **Mixed:** \"From the context, we learn that the Eiffel Tower was completed in 1889. Based on my knowledge, it was designed by Gustave Eiffel.\"\n",
    "            - **Admitting Limitation:** \"I do not have enough information to answer this query adequately.\"\n",
    "\n",
    "            **Proceed:**\n",
    "            Now, attempt to answer the query provided:\n",
    "\n",
    "            **Query:** {query}\n",
    "\n",
    "            Your answer should be just explain of your understanding of the question. Dont list steps or any other things. Just explain the concept. Dont say Based on my knowledge or Based on the provided context, on your answer\n",
    "            Just answer the question directly and in detail simple way\n",
    "            DONT MENTION ABOUT THE CONTEXT OR THE QUESTION IN YOUR ANSWER\n",
    "    \n",
    "    \"\"\"\n",
    "    \n",
    "    # Ollama local API endpoint\n",
    "    OLLAMA_URL = \"http://localhost:11434/api/generate\"\n",
    "\n",
    "    # Define the request payload\n",
    "    payload = {\n",
    "        \"model\": \"llama3.2\",  # Change this to the model you have installed\n",
    "        \"prompt\": grok_prompt,\n",
    "        \"stream\": False # Set to True if you want to stream responses\n",
    "    }\n",
    "\n",
    "    # Send the request\n",
    "    response = requests.post(OLLAMA_URL, json=payload)\n",
    "\n",
    "    # Parse and print response\n",
    "    if response.status_code == 200:\n",
    "        data = response.json()\n",
    "        print(data[\"response\"])\n",
    "    else:\n",
    "        print(f\"Error: {response.status_code}, {response.text}\")\n",
    "\n",
    "\n"
   ]
  },
  {
   "cell_type": "code",
   "execution_count": 42,
   "metadata": {},
   "outputs": [
    {
     "name": "stdout",
     "output_type": "stream",
     "text": [
      "You should select an opt start date that aligns with when you plan to begin your Optional Practical Training (OPT) period. This date should ideally be after your I-20 end date but before your OPT start date, allowing for a smooth transition into employment or further education without any visa issues.\n"
     ]
    }
   ],
   "source": [
    "query = [\"What start date should I select as my starting date\"]\n",
    "response_query = collection.query(query_texts=query, n_results=1)\n",
    "context = response_query[\"documents\"][0]\n",
    "\n",
    "response = ask_ollama(query, context)"
   ]
  },
  {
   "cell_type": "code",
   "execution_count": null,
   "metadata": {},
   "outputs": [],
   "source": []
  }
 ],
 "metadata": {
  "kernelspec": {
   "display_name": "base",
   "language": "python",
   "name": "python3"
  },
  "language_info": {
   "codemirror_mode": {
    "name": "ipython",
    "version": 3
   },
   "file_extension": ".py",
   "mimetype": "text/x-python",
   "name": "python",
   "nbconvert_exporter": "python",
   "pygments_lexer": "ipython3",
   "version": "3.10.0"
  }
 },
 "nbformat": 4,
 "nbformat_minor": 2
}
